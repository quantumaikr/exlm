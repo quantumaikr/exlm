{
 "cells": [
  {
   "cell_type": "code",
   "execution_count": 2,
   "metadata": {},
   "outputs": [],
   "source": [
    "from transformers import AutoTokenizer\n",
    "\n",
    "\n",
    "tokenizer = AutoTokenizer.from_pretrained('quantumaikr/plankton_tokenizer')\n"
   ]
  },
  {
   "cell_type": "code",
   "execution_count": 3,
   "metadata": {},
   "outputs": [
    {
     "name": "stdout",
     "output_type": "stream",
     "text": [
      "42000\n"
     ]
    }
   ],
   "source": [
    "\n",
    "vocab_size = tokenizer.vocab_size\n",
    "print(vocab_size)"
   ]
  },
  {
   "cell_type": "code",
   "execution_count": 4,
   "metadata": {},
   "outputs": [
    {
     "name": "stdout",
     "output_type": "stream",
     "text": [
      "0\n",
      "1\n",
      "2\n",
      "3\n"
     ]
    }
   ],
   "source": [
    "print(tokenizer.convert_tokens_to_ids(\"<s>\"))\n",
    "print(tokenizer.convert_tokens_to_ids(\"</s>\"))\n",
    "print(tokenizer.convert_tokens_to_ids(\"<unk>\"))\n",
    "print(tokenizer.convert_tokens_to_ids(\"<pad>\"))\n"
   ]
  },
  {
   "cell_type": "code",
   "execution_count": 53,
   "metadata": {},
   "outputs": [
    {
     "name": "stdout",
     "output_type": "stream",
     "text": [
      "1.004082 Billion\n"
     ]
    }
   ],
   "source": [
    "from ezlm import PlanktonConfig, PlanktonForCausalLM\n",
    "from ezlm import print_model_size\n",
    "\n",
    "\n",
    "config = PlanktonConfig(\n",
    "    vocab_size=vocab_size,\n",
    "    hidden_size=2000,\n",
    "    intermediate_size=4300,\n",
    "    max_position_embeddings=2000,\n",
    "    num_attention_heads=20,\n",
    "    num_hidden_layers=20,\n",
    "    num_key_value_heads=20,\n",
    ")\n",
    "\n",
    "\n",
    "model = PlanktonForCausalLM(config)\n",
    "print_model_size(model)\n"
   ]
  },
  {
   "cell_type": "code",
   "execution_count": 54,
   "metadata": {},
   "outputs": [],
   "source": [
    "model.save_pretrained('plankton-1B')"
   ]
  },
  {
   "cell_type": "code",
   "execution_count": 56,
   "metadata": {},
   "outputs": [],
   "source": [
    "import os\n",
    "from dotenv import load_dotenv \n",
    "load_dotenv('.env.dev')\n",
    "HF_TOKEN = os.environ.get(\"HF_TOKEN\")\n",
    "\n",
    "model.push_to_hub('plankton-1B', token=HF_TOKEN, private=True)"
   ]
  },
  {
   "cell_type": "code",
   "execution_count": null,
   "metadata": {},
   "outputs": [],
   "source": []
  }
 ],
 "metadata": {
  "kernelspec": {
   "display_name": "venv",
   "language": "python",
   "name": "python3"
  },
  "language_info": {
   "codemirror_mode": {
    "name": "ipython",
    "version": 3
   },
   "file_extension": ".py",
   "mimetype": "text/x-python",
   "name": "python",
   "nbconvert_exporter": "python",
   "pygments_lexer": "ipython3",
   "version": "3.11.2"
  },
  "orig_nbformat": 4
 },
 "nbformat": 4,
 "nbformat_minor": 2
}
